{
  "cells": [
    {
      "attachments": {},
      "cell_type": "markdown",
      "metadata": {},
      "source": [
        "<a href=\"https://colab.research.google.com/drive/1g6yOSEpLaPDxdMf8_GQLzQafPQvkUJHK?usp=share_link\" target=\"_parent\">\n",
        "<img src=\"https://colab.research.google.com/assets/colab-badge.svg\" alt=\"Open In Colab\"/></a>"
      ]
    },
    {
      "cell_type": "markdown",
      "metadata": {
        "id": "Fci-0bAuq83p"
      },
      "source": [
        "# ***Plagarism Detector of local text document***\n",
        "*By Aniket Bharat Mishra*"
      ]
    },
    {
      "cell_type": "code",
      "execution_count": 1,
      "metadata": {
        "id": "7dpEDUNJoaDh"
      },
      "outputs": [],
      "source": [
        "import os\n",
        "from sklearn.feature_extraction.text import TfidfVectorizer\n",
        "from sklearn.metrics.pairwise import cosine_similarity"
      ]
    },
    {
      "cell_type": "code",
      "execution_count": 2,
      "metadata": {
        "id": "wA1HBYsaofH6"
      },
      "outputs": [],
      "source": [
        "student_doc = [doc for doc in os.listdir() if doc.endswith('.txt')]\n",
        "student_notes = [open(_file, encoding='utf-8').read()\n",
        "                 for _file in student_doc]"
      ]
    },
    {
      "cell_type": "code",
      "execution_count": 3,
      "metadata": {
        "id": "7r6H0FtIofs8"
      },
      "outputs": [],
      "source": [
        "def vectorize(Text): return TfidfVectorizer().fit_transform(Text).toarray()\n",
        "def similarity(doc1, doc2): return cosine_similarity([doc1, doc2])\n",
        "vectors = vectorize(student_notes)\n",
        "s_vectors = list(zip(student_doc, vectors))\n",
        "plagiarism_results = set()"
      ]
    },
    {
      "cell_type": "code",
      "execution_count": 4,
      "metadata": {
        "id": "joh_F9ocofp7"
      },
      "outputs": [],
      "source": [
        "def check_plag():\n",
        "    global s_vectors\n",
        "    for student_a, text_vector_a in s_vectors:\n",
        "        new_vectors = s_vectors.copy()\n",
        "        current_index = new_vectors.index((student_a, text_vector_a))\n",
        "        del new_vectors[current_index]\n",
        "        for student_b, text_vector_b in new_vectors:\n",
        "            sim_score = similarity(text_vector_a, text_vector_b)[0][1]\n",
        "            student_pair = sorted((student_a, student_b))\n",
        "            score = (student_pair[0], student_pair[1], sim_score)\n",
        "            plagiarism_results.add(score)\n",
        "    return plagiarism_results"
      ]
    },
    {
      "cell_type": "code",
      "execution_count": 5,
      "metadata": {
        "colab": {
          "base_uri": "https://localhost:8080/"
        },
        "id": "Lv4RyUOjofjz",
        "outputId": "a2e527ef-ce7c-42e7-c78d-41de6b008d1a"
      },
      "outputs": [
        {
          "name": "stdout",
          "output_type": "stream",
          "text": [
            "('Somen.txt', 'requirements.txt', 0.0)\n",
            "('Aditya.txt', 'Aniket.txt', 0.2170958371996619)\n",
            "('Aniket.txt', 'Somen.txt', 0.21162504328588924)\n",
            "('Aditya.txt', 'requirements.txt', 0.0)\n",
            "('Rajan.txt', 'Somen.txt', 1.0000000000000002)\n",
            "('Rajan.txt', 'requirements.txt', 0.0)\n",
            "('Aditya.txt', 'Rajan.txt', 0.6573793723273109)\n",
            "('Aniket.txt', 'Rajan.txt', 0.21162504328588924)\n",
            "('Aditya.txt', 'Somen.txt', 0.6573793723273109)\n",
            "('Aniket.txt', 'requirements.txt', 0.0)\n"
          ]
        }
      ],
      "source": [
        "for data in check_plag():\n",
        "    print(data)"
      ]
    }
  ],
  "metadata": {
    "colab": {
      "provenance": []
    },
    "kernelspec": {
      "display_name": "Python 3",
      "language": "python",
      "name": "python3"
    },
    "language_info": {
      "name": "python",
      "version": "3.10.9 (tags/v3.10.9:1dd9be6, Dec  6 2022, 20:01:21) [MSC v.1934 64 bit (AMD64)]"
    },
    "vscode": {
      "interpreter": {
        "hash": "0ceb9393b8a55af64923b3f6bfb34455af15bc7c980d048e17860f7eb328a5fe"
      }
    }
  },
  "nbformat": 4,
  "nbformat_minor": 0
}
